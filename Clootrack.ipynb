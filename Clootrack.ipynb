{
  "nbformat": 4,
  "nbformat_minor": 0,
  "metadata": {
    "colab": {
      "name": "Clootrack.ipynb",
      "provenance": []
    },
    "kernelspec": {
      "name": "python3",
      "display_name": "Python 3"
    },
    "language_info": {
      "name": "python"
    }
  },
  "cells": [
    {
      "cell_type": "markdown",
      "metadata": {
        "id": "-W1pJfskDJz-"
      },
      "source": [
        "**Importing all the necessary libraries**"
      ]
    },
    {
      "cell_type": "code",
      "metadata": {
        "id": "E9gqkWrKo0vQ"
      },
      "source": [
        "import numpy as np\n",
        "import pandas as pd\n",
        "import seaborn as sns\n",
        "import matplotlib.pyplot as plt"
      ],
      "execution_count": 33,
      "outputs": []
    },
    {
      "cell_type": "markdown",
      "metadata": {
        "id": "FidygieNDXff"
      },
      "source": [
        "**Reading the Excel file and drawing a rough overview of the data**"
      ]
    },
    {
      "cell_type": "code",
      "metadata": {
        "colab": {
          "base_uri": "https://localhost:8080/",
          "height": 204
        },
        "id": "VAn_JeJ6pDbf",
        "outputId": "0a88e452-53f4-4678-9267-a8629eedf462"
      },
      "source": [
        "df=pd.read_excel(\"/content/Data Analyst - Test Data.xlsx\")\n",
        "copy=df\n",
        "copy.head()"
      ],
      "execution_count": 3,
      "outputs": [
        {
          "output_type": "execute_result",
          "data": {
            "text/html": [
              "<div>\n",
              "<style scoped>\n",
              "    .dataframe tbody tr th:only-of-type {\n",
              "        vertical-align: middle;\n",
              "    }\n",
              "\n",
              "    .dataframe tbody tr th {\n",
              "        vertical-align: top;\n",
              "    }\n",
              "\n",
              "    .dataframe thead th {\n",
              "        text-align: right;\n",
              "    }\n",
              "</style>\n",
              "<table border=\"1\" class=\"dataframe\">\n",
              "  <thead>\n",
              "    <tr style=\"text-align: right;\">\n",
              "      <th></th>\n",
              "      <th>Review</th>\n",
              "      <th>date</th>\n",
              "      <th>Location</th>\n",
              "    </tr>\n",
              "  </thead>\n",
              "  <tbody>\n",
              "    <tr>\n",
              "      <th>0</th>\n",
              "      <td>I was very impressed with the resort.\\n Great ...</td>\n",
              "      <td>2019-08-20</td>\n",
              "      <td>Sebastian</td>\n",
              "    </tr>\n",
              "    <tr>\n",
              "      <th>1</th>\n",
              "      <td>The rooms were nice the outside needs work als...</td>\n",
              "      <td>2019-08-20</td>\n",
              "      <td>Los Angeles</td>\n",
              "    </tr>\n",
              "    <tr>\n",
              "      <th>2</th>\n",
              "      <td>Great location! I have stayed at this hotel on...</td>\n",
              "      <td>2019-08-20</td>\n",
              "      <td>Georgia</td>\n",
              "    </tr>\n",
              "    <tr>\n",
              "      <th>3</th>\n",
              "      <td>The hotel was adequate for my stay. The strips...</td>\n",
              "      <td>2019-08-20</td>\n",
              "      <td>NaN</td>\n",
              "    </tr>\n",
              "    <tr>\n",
              "      <th>4</th>\n",
              "      <td>Great location, room was large and spacious. P...</td>\n",
              "      <td>2019-08-19</td>\n",
              "      <td>Palm Harbor</td>\n",
              "    </tr>\n",
              "  </tbody>\n",
              "</table>\n",
              "</div>"
            ],
            "text/plain": [
              "                                              Review       date     Location\n",
              "0  I was very impressed with the resort.\\n Great ... 2019-08-20    Sebastian\n",
              "1  The rooms were nice the outside needs work als... 2019-08-20  Los Angeles\n",
              "2  Great location! I have stayed at this hotel on... 2019-08-20      Georgia\n",
              "3  The hotel was adequate for my stay. The strips... 2019-08-20          NaN\n",
              "4  Great location, room was large and spacious. P... 2019-08-19  Palm Harbor"
            ]
          },
          "metadata": {
            "tags": []
          },
          "execution_count": 3
        }
      ]
    },
    {
      "cell_type": "markdown",
      "metadata": {
        "id": "QuHSvsbODqU1"
      },
      "source": [
        "**Checking the Shape of the data(rows and columns)**"
      ]
    },
    {
      "cell_type": "code",
      "metadata": {
        "colab": {
          "base_uri": "https://localhost:8080/"
        },
        "id": "QItzbeAwpREE",
        "outputId": "bf1796c9-7809-40fb-c333-70615b5d357b"
      },
      "source": [
        "copy.shape"
      ],
      "execution_count": 6,
      "outputs": [
        {
          "output_type": "execute_result",
          "data": {
            "text/plain": [
              "(6448, 3)"
            ]
          },
          "metadata": {
            "tags": []
          },
          "execution_count": 6
        }
      ]
    },
    {
      "cell_type": "markdown",
      "metadata": {
        "id": "scaqtVW5D371"
      },
      "source": [
        "***The describe() method is used for calculating some statistical data like percentile, mean and std of the numerical values of the Series or DataFrame. It analyzes both numeric and object series and also the DataFrame column sets of mixed data types***"
      ]
    },
    {
      "cell_type": "code",
      "metadata": {
        "colab": {
          "base_uri": "https://localhost:8080/",
          "height": 289
        },
        "id": "Mc-jI1MIpVX1",
        "outputId": "b8b11118-0480-43e5-889b-fc2afb5a756e"
      },
      "source": [
        "copy.describe()"
      ],
      "execution_count": 8,
      "outputs": [
        {
          "output_type": "stream",
          "text": [
            "/usr/local/lib/python3.7/dist-packages/ipykernel_launcher.py:1: FutureWarning: Treating datetime data as categorical rather than numeric in `.describe` is deprecated and will be removed in a future version of pandas. Specify `datetime_is_numeric=True` to silence this warning and adopt the future behavior now.\n",
            "  \"\"\"Entry point for launching an IPython kernel.\n"
          ],
          "name": "stderr"
        },
        {
          "output_type": "execute_result",
          "data": {
            "text/html": [
              "<div>\n",
              "<style scoped>\n",
              "    .dataframe tbody tr th:only-of-type {\n",
              "        vertical-align: middle;\n",
              "    }\n",
              "\n",
              "    .dataframe tbody tr th {\n",
              "        vertical-align: top;\n",
              "    }\n",
              "\n",
              "    .dataframe thead th {\n",
              "        text-align: right;\n",
              "    }\n",
              "</style>\n",
              "<table border=\"1\" class=\"dataframe\">\n",
              "  <thead>\n",
              "    <tr style=\"text-align: right;\">\n",
              "      <th></th>\n",
              "      <th>Review</th>\n",
              "      <th>date</th>\n",
              "      <th>Location</th>\n",
              "    </tr>\n",
              "  </thead>\n",
              "  <tbody>\n",
              "    <tr>\n",
              "      <th>count</th>\n",
              "      <td>6393</td>\n",
              "      <td>6448</td>\n",
              "      <td>1711</td>\n",
              "    </tr>\n",
              "    <tr>\n",
              "      <th>unique</th>\n",
              "      <td>6384</td>\n",
              "      <td>385</td>\n",
              "      <td>1082</td>\n",
              "    </tr>\n",
              "    <tr>\n",
              "      <th>top</th>\n",
              "      <td>Amazing\\n  \\n  Read more\\n  Read less</td>\n",
              "      <td>2019-06-01 00:00:00</td>\n",
              "      <td>United States of America</td>\n",
              "    </tr>\n",
              "    <tr>\n",
              "      <th>freq</th>\n",
              "      <td>4</td>\n",
              "      <td>150</td>\n",
              "      <td>116</td>\n",
              "    </tr>\n",
              "    <tr>\n",
              "      <th>first</th>\n",
              "      <td>NaN</td>\n",
              "      <td>2018-08-01 00:00:00</td>\n",
              "      <td>NaN</td>\n",
              "    </tr>\n",
              "    <tr>\n",
              "      <th>last</th>\n",
              "      <td>NaN</td>\n",
              "      <td>2019-08-20 00:00:00</td>\n",
              "      <td>NaN</td>\n",
              "    </tr>\n",
              "  </tbody>\n",
              "</table>\n",
              "</div>"
            ],
            "text/plain": [
              "                                       Review  ...                  Location\n",
              "count                                    6393  ...                      1711\n",
              "unique                                   6384  ...                      1082\n",
              "top     Amazing\\n  \\n  Read more\\n  Read less  ...  United States of America\n",
              "freq                                        4  ...                       116\n",
              "first                                     NaN  ...                       NaN\n",
              "last                                      NaN  ...                       NaN\n",
              "\n",
              "[6 rows x 3 columns]"
            ]
          },
          "metadata": {
            "tags": []
          },
          "execution_count": 8
        }
      ]
    },
    {
      "cell_type": "markdown",
      "metadata": {
        "id": "dW0UZgD7EDAt"
      },
      "source": [
        "**Checking for NULL values by using isnull() fuction and geting the sum of null values of each columns by sum() function**"
      ]
    },
    {
      "cell_type": "code",
      "metadata": {
        "colab": {
          "base_uri": "https://localhost:8080/"
        },
        "id": "1BKnCLQIqNEW",
        "outputId": "d1c7851a-a588-4365-9565-0518aaf76038"
      },
      "source": [
        "copy.isnull().sum()"
      ],
      "execution_count": 9,
      "outputs": [
        {
          "output_type": "execute_result",
          "data": {
            "text/plain": [
              "Review        55\n",
              "date           0\n",
              "Location    4737\n",
              "dtype: int64"
            ]
          },
          "metadata": {
            "tags": []
          },
          "execution_count": 9
        }
      ]
    },
    {
      "cell_type": "code",
      "metadata": {
        "colab": {
          "base_uri": "https://localhost:8080/"
        },
        "id": "B0S8IhD7qUeI",
        "outputId": "b2294f6d-8518-4815-b33a-f1a5eb2d0f2f"
      },
      "source": [
        "copy['Location'].describe()"
      ],
      "execution_count": 11,
      "outputs": [
        {
          "output_type": "execute_result",
          "data": {
            "text/plain": [
              "count                         1711\n",
              "unique                        1082\n",
              "top       United States of America\n",
              "freq                           116\n",
              "Name: Location, dtype: object"
            ]
          },
          "metadata": {
            "tags": []
          },
          "execution_count": 11
        }
      ]
    },
    {
      "cell_type": "markdown",
      "metadata": {
        "id": "_-II1PMsEUbx"
      },
      "source": [
        "**Dropping all the NULL values to reduce the redundancy. Here we are dropping the data because we cant assume any value for any of the columns**"
      ]
    },
    {
      "cell_type": "code",
      "metadata": {
        "id": "uIu6B_Sbq0Zw"
      },
      "source": [
        "copy.dropna(inplace=True)"
      ],
      "execution_count": 16,
      "outputs": []
    },
    {
      "cell_type": "code",
      "metadata": {
        "colab": {
          "base_uri": "https://localhost:8080/"
        },
        "id": "5R-IhuuatE3z",
        "outputId": "fd87b0c1-e729-467b-8714-c39fbde7fdb1"
      },
      "source": [
        "copy.isnull().sum()"
      ],
      "execution_count": 17,
      "outputs": [
        {
          "output_type": "execute_result",
          "data": {
            "text/plain": [
              "Review      0\n",
              "date        0\n",
              "Location    0\n",
              "dtype: int64"
            ]
          },
          "metadata": {
            "tags": []
          },
          "execution_count": 17
        }
      ]
    },
    {
      "cell_type": "code",
      "metadata": {
        "colab": {
          "base_uri": "https://localhost:8080/"
        },
        "id": "hWlCb8G9txPj",
        "outputId": "c0219700-6239-42ab-8380-b70521dd4f0a"
      },
      "source": [
        "copy.shape"
      ],
      "execution_count": 19,
      "outputs": [
        {
          "output_type": "execute_result",
          "data": {
            "text/plain": [
              "(1705, 3)"
            ]
          },
          "metadata": {
            "tags": []
          },
          "execution_count": 19
        }
      ]
    },
    {
      "cell_type": "code",
      "metadata": {
        "colab": {
          "base_uri": "https://localhost:8080/"
        },
        "id": "V47axNsat4Cj",
        "outputId": "25d984eb-8cb5-45da-fdb0-b934475ebddc"
      },
      "source": [
        "copy['Location'].value_counts(sort=True,ascending=False)"
      ],
      "execution_count": 68,
      "outputs": [
        {
          "output_type": "execute_result",
          "data": {
            "text/plain": [
              "United States of America    116\n",
              "New York                     34\n",
              "California                   19\n",
              "San Jose                     19\n",
              "Florida                      16\n",
              "                           ... \n",
              "Busan, Korea                  1\n",
              "Cincinnati                    1\n",
              "Dayton us                     1\n",
              "Terral, OK                    1\n",
              "huntington,NY                 1\n",
              "Name: Location, Length: 1078, dtype: int64"
            ]
          },
          "metadata": {
            "tags": []
          },
          "execution_count": 68
        }
      ]
    },
    {
      "cell_type": "markdown",
      "metadata": {
        "id": "mX-lGVxUE-6Z"
      },
      "source": [
        "**Conclusion: By analysing this we can say maximum number of of reviews are from United States of America**"
      ]
    },
    {
      "cell_type": "code",
      "metadata": {
        "colab": {
          "base_uri": "https://localhost:8080/"
        },
        "id": "e65N0Aqrv8kh",
        "outputId": "6d7cae47-e0f4-48f6-be75-2ae8929e6f27"
      },
      "source": [
        "copy['date'].value_counts(sort=True,ascending=False)"
      ],
      "execution_count": 69,
      "outputs": [
        {
          "output_type": "execute_result",
          "data": {
            "text/plain": [
              "2018-09-04    18\n",
              "2019-07-31    17\n",
              "2019-08-11    16\n",
              "2018-11-26    15\n",
              "2018-10-26    14\n",
              "              ..\n",
              "2019-04-10     1\n",
              "2019-05-03     1\n",
              "2019-06-06     1\n",
              "2019-01-22     1\n",
              "2018-12-21     1\n",
              "Name: date, Length: 363, dtype: int64"
            ]
          },
          "metadata": {
            "tags": []
          },
          "execution_count": 69
        }
      ]
    },
    {
      "cell_type": "markdown",
      "metadata": {
        "id": "lyzwPgmeGYLY"
      },
      "source": [
        "**Conclusion: By analysing this we can say maximum number of reviews came on 2018-09-04**"
      ]
    },
    {
      "cell_type": "markdown",
      "metadata": {
        "id": "lejvfs9OHVi1"
      },
      "source": [
        "This analysis is done by **Supriyo Pal**\n",
        "\n",
        "Linked in profile :- https://www.linkedin.com/in/supriyo-pal-0a7b03159/"
      ]
    }
  ]
}